{
 "metadata": {
  "signature": "sha256:56f96cf17697048e79058823a57f2bcddffd55678dfbbcba6f2b6ae8a0b99738"
 },
 "nbformat": 3,
 "nbformat_minor": 0,
 "worksheets": [
  {
   "cells": [
    {
     "cell_type": "markdown",
     "metadata": {},
     "source": [
      "In this example we will use various Optunity solvers to minimize the following simple 2d parabola:\n",
      "$$f(x, y) = (x - x_{off})^2 + (y - y_{off})^2,$$\n",
      "where $x_{off}$ and $y_{off}$ are randomly determined offsets."
     ]
    },
    {
     "cell_type": "code",
     "collapsed": false,
     "input": [
      "def create_objective_function():\n",
      "    xoff = random.random()\n",
      "    yoff = random.random()\n",
      "    def f(x, y):\n",
      "        return (x - xoff)**2 + (y - yoff - 5)**2\n",
      "    return f"
     ],
     "language": "python",
     "metadata": {},
     "outputs": [],
     "prompt_number": 1
    },
    {
     "cell_type": "markdown",
     "metadata": {},
     "source": [
      "We start with the necessary imports."
     ]
    },
    {
     "cell_type": "code",
     "collapsed": false,
     "input": [
      "%matplotlib inline # comment this line when running the notebook yourself\n",
      "import math\n",
      "import optunity\n",
      "import random\n",
      "import numpy as np\n",
      "import matplotlib.pyplot as plt\n",
      "import matplotlib.ticker as ticker"
     ],
     "language": "python",
     "metadata": {},
     "outputs": [],
     "prompt_number": 2
    },
    {
     "cell_type": "markdown",
     "metadata": {},
     "source": [
      "First we check which solvers are available. This is available via `optunity.available_solvers`."
     ]
    },
    {
     "cell_type": "code",
     "collapsed": false,
     "input": [
      "solvers = optunity.available_solvers()\n",
      "print('Available solvers: ' + ', '.join(solvers))"
     ],
     "language": "python",
     "metadata": {},
     "outputs": [
      {
       "output_type": "stream",
       "stream": "stdout",
       "text": [
        "Available solvers: particle swarm, tpe, sobol, nelder-mead, random search, cma-es, grid search\n"
       ]
      }
     ],
     "prompt_number": 3
    },
    {
     "cell_type": "markdown",
     "metadata": {},
     "source": [
      "To run an experiment, we start by generating an objective function."
     ]
    },
    {
     "cell_type": "code",
     "collapsed": false,
     "input": [
      "f = create_objective_function()"
     ],
     "language": "python",
     "metadata": {},
     "outputs": [],
     "prompt_number": 4
    },
    {
     "cell_type": "markdown",
     "metadata": {},
     "source": [
      "Now we use every available solver to optimize the objective function within the box $x\\in\\ ]-5, 5[$ and $y\\in\\ ]-5, 5[$ and save the results."
     ]
    },
    {
     "cell_type": "code",
     "collapsed": false,
     "input": [
      "logs = {}\n",
      "for solver in solvers:\n",
      "    pars, details, _ = optunity.minimize(f, num_evals=100, x=[-5, 5], y=[-5, 5], solver_name=solver)\n",
      "    logs[solver] = np.array([details.call_log['args']['x'],\n",
      "                             details.call_log['args']['y']])"
     ],
     "language": "python",
     "metadata": {},
     "outputs": [],
     "prompt_number": 6
    },
    {
     "cell_type": "markdown",
     "metadata": {},
     "source": [
      "Finally, lets look at the results, that is the trace of each solver along with contours of the objective function."
     ]
    },
    {
     "cell_type": "code",
     "collapsed": false,
     "input": [
      "# make sure different traces are somewhat visually separable\n",
      "colors =  ['r', 'g', 'b', 'y', 'k', 'y', 'r', 'g']\n",
      "markers = ['x', '+', 'o', 's', 'p', 'x', '+', 'o']\n",
      "\n",
      "# compute contours of the objective function\n",
      "delta = 0.025\n",
      "x = np.arange(-5.0, 5.0, delta)\n",
      "y = np.arange(-5.0, 5.0, delta)\n",
      "X, Y = np.meshgrid(x, y)\n",
      "Z = f(X, Y)\n",
      "\n",
      "CS = plt.contour(X, Y, Z)\n",
      "plt.clabel(CS, inline=1, fontsize=10, alpha=0.5)\n",
      "for i, solver in enumerate(solvers):\n",
      "    plt.scatter(logs[solver][0,:], logs[solver][1,:], c=colors[i], marker=markers[i], alpha=0.80)\n",
      "\n",
      "plt.xlim([-5, 5])\n",
      "plt.ylim([-5, 5])\n",
      "plt.axis('equal')\n",
      "plt.legend(solvers)\n",
      "plt.show()"
     ],
     "language": "python",
     "metadata": {},
     "outputs": [],
     "prompt_number": 7
    },
    {
     "cell_type": "markdown",
     "metadata": {},
     "source": [
      "Now lets see the performance of the solvers across in 100 repeated experiments. We will do 100 experiments for each solver and then report the resulting statistics. This may take a while to run."
     ]
    },
    {
     "cell_type": "code",
     "collapsed": false,
     "input": [
      "optima = dict([(s, []) for s in solvers])\n",
      "for i in range(100):\n",
      "    f = create_objective_function()\n",
      "\n",
      "    for solver in solvers:\n",
      "        pars, details, _ = optunity.minimize(f, num_evals=100, x=[-5, 5], y=[-5, 5],\n",
      "                                             solver_name=solver)\n",
      "        # the above line can be parallelized by adding `pmap=optunity.pmap`\n",
      "        # however this is incompatible with IPython\n",
      "\n",
      "        optima[solver].append(details.optimum)\n",
      "        logs[solver] = np.array([details.call_log['args']['x'],\n",
      "                                 details.call_log['args']['y']])\n",
      "\n",
      "from collections import OrderedDict\n",
      "log_optima = OrderedDict()\n",
      "means = OrderedDict()\n",
      "std = OrderedDict()\n",
      "for k, v in optima.items():\n",
      "    log_optima[k] = [-math.log10(val) for val in v]\n",
      "    means[k] = sum(log_optima[k]) / len(v)\n",
      "    std[k] = np.std(log_optima[k])\n",
      "\n",
      "plt.barh(np.arange(len(means)), means.values(), height=0.8, xerr=std.values(), alpha=0.5)\n",
      "plt.xlabel('number of correct digits')\n",
      "plt.yticks(np.arange(len(means))+0.4, list(means.keys()))\n",
      "plt.tight_layout()\n",
      "plt.show()"
     ],
     "language": "python",
     "metadata": {},
     "outputs": [
      {
       "metadata": {},
       "output_type": "display_data",
       "png": "[encoded data removed]",
       "text": [
        "<matplotlib.figure.Figure at 0x7fd78b35ce90>"
       ]
      }
     ],
     "prompt_number": 8
    }
   ],
   "metadata": {}
  }
 ]
}