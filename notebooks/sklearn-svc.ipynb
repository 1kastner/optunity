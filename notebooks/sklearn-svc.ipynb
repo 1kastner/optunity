{
 "metadata": {
  "name": "",
  "signature": "sha256:a2628d4bd55863d6aa43bad851b025f4b16ff6967dc648e75f218c984e95f245"
 },
 "nbformat": 3,
 "nbformat_minor": 0,
 "worksheets": [
  {
   "cells": [
    {
     "cell_type": "heading",
     "level": 1,
     "metadata": {},
     "source": [
      "sklearn: SVM classification"
     ]
    },
    {
     "cell_type": "markdown",
     "metadata": {},
     "source": [
      "In this example we will use Optunity to optimize hyperparameters for a support vector machine classifier (SVC) in scikit-learn. We will learn a model to distinguish digits 8 and 9 in the MNIST data set in two settings\n",
      "\n",
      "* tune SVM with RBF kernel\n",
      "* tune SVM with RBF, polynomial or linear kernel, that is choose the kernel function and its hyperparameters at once"
     ]
    },
    {
     "cell_type": "code",
     "collapsed": false,
     "input": [
      "import optunity\n",
      "import optunity.metrics\n",
      "\n",
      "# comment this line if you are running the notebook\n",
      "%matplotlib inline\n",
      "import matplotlib.pyplot as plt\n",
      "import sklearn.svm\n",
      "import numpy as np"
     ],
     "language": "python",
     "metadata": {},
     "outputs": [],
     "prompt_number": 1
    },
    {
     "cell_type": "markdown",
     "metadata": {},
     "source": [
      "Create the data set: we use the MNIST data set and will build models to distinguish digits 8 and 9."
     ]
    },
    {
     "cell_type": "code",
     "collapsed": false,
     "input": [
      "from sklearn.datasets import load_digits\n",
      "digits = load_digits()\n",
      "n = digits.data.shape[0]\n",
      "\n",
      "positive_digit = 8\n",
      "negative_digit = 9\n",
      "\n",
      "positive_idx = [i for i in range(n) if digits.target[i] == positive_digit]\n",
      "negative_idx = [i for i in range(n) if digits.target[i] == negative_digit]\n",
      "\n",
      "# add some noise to the data to make it a little challenging\n",
      "original_data = digits.data[positive_idx + negative_idx, ...]\n",
      "data = original_data + 5 * np.random.randn(original_data.shape[0], original_data.shape[1])\n",
      "labels = [True] * len(positive_idx) + [False] * len(negative_idx)"
     ],
     "language": "python",
     "metadata": {},
     "outputs": [],
     "prompt_number": 2
    },
    {
     "cell_type": "markdown",
     "metadata": {},
     "source": [
      "First, lets see the performance of an SVC with default hyperparameters."
     ]
    },
    {
     "cell_type": "code",
     "collapsed": false,
     "input": [
      "# compute area under ROC curve of default parameters\n",
      "@optunity.cross_validated(x=data, y=labels, num_folds=5)\n",
      "def svm_default_auroc(x_train, y_train, x_test, y_test):\n",
      "    model = sklearn.svm.SVC().fit(x_train, y_train)\n",
      "    decision_values = model.decision_function(x_test)\n",
      "    auc = optunity.metrics.roc_auc(y_test, decision_values)\n",
      "    return auc\n",
      "\n",
      "svm_default_auroc()"
     ],
     "language": "python",
     "metadata": {},
     "outputs": [
      {
       "metadata": {},
       "output_type": "pyout",
       "prompt_number": 3,
       "text": [
        "0.7838539081885857"
       ]
      }
     ],
     "prompt_number": 3
    },
    {
     "cell_type": "heading",
     "level": 2,
     "metadata": {},
     "source": [
      "Tune SVC with RBF kernel <a id=rbf></a>"
     ]
    },
    {
     "cell_type": "markdown",
     "metadata": {},
     "source": [
      "In order to use Optunity to optimize hyperparameters, we start by defining the objective function. We will use 5-fold cross-validated area under the ROC curve. For now, lets restrict ourselves to the RBF kernel and optimize $C$ and $\\gamma$. \n",
      "\n",
      "We start by defining the objective function `svm_rbf_tuned_auroc()`, which accepts $C$ and $\\gamma$ as arguments."
     ]
    },
    {
     "cell_type": "code",
     "collapsed": false,
     "input": [
      "#we will make the cross-validation decorator once, so we can reuse it later for the other tuning task\n",
      "# by reusing the decorator, we get the same folds etc.\n",
      "cv_decorator = optunity.cross_validated(x=data, y=labels, num_folds=5)\n",
      "\n",
      "def svm_rbf_tuned_auroc(x_train, y_train, x_test, y_test, C, gamma):\n",
      "    model = sklearn.svm.SVC(C=C, gamma=gamma).fit(x_train, y_train)\n",
      "    decision_values = model.decision_function(x_test)\n",
      "    auc = optunity.metrics.roc_auc(y_test, decision_values)\n",
      "    return auc\n",
      "\n",
      "svm_rbf_tuned_auroc = cv_decorator(svm_rbf_tuned_auroc)\n",
      "# this is equivalent to the more common syntax below\n",
      "# @optunity.cross_validated(x=data, y=labels, num_folds=5)\n",
      "# def svm_rbf_tuned_auroc...\n",
      "\n",
      "svm_rbf_tuned_auroc(C=1.0, gamma=1.0)"
     ],
     "language": "python",
     "metadata": {},
     "outputs": [
      {
       "metadata": {},
       "output_type": "pyout",
       "prompt_number": 4,
       "text": [
        "0.5"
       ]
      }
     ],
     "prompt_number": 4
    },
    {
     "cell_type": "markdown",
     "metadata": {},
     "source": [
      "Now we can use Optunity to find the hyperparameters that maximize AUROC."
     ]
    },
    {
     "cell_type": "code",
     "collapsed": false,
     "input": [
      "optimal_rbf_pars, info, _ = optunity.maximize(svm_rbf_tuned_auroc, num_evals=150, C=[0, 10], gamma=[0, 0.1])\n",
      "# when running this outside of IPython we can parallelize via optunity.pmap\n",
      "# optimal_rbf_pars, _, _ = optunity.maximize(svm_rbf_tuned_auroc, 150, C=[0, 10], gamma=[0, 0.1], pmap=optunity.pmap)\n",
      "\n",
      "print(\"Optimal parameters: \" + str(optimal_rbf_pars))\n",
      "print(\"AUROC of tuned SVM with RBF kernel: %1.3f\" % info.optimum)"
     ],
     "language": "python",
     "metadata": {},
     "outputs": [
      {
       "output_type": "stream",
       "stream": "stdout",
       "text": [
        "Optimal parameters: {'C': 5.145039160286679, 'gamma': 0.0011649329771152538}\n",
        "AUROC of tuned SVM with RBF kernel: 0.985\n"
       ]
      }
     ],
     "prompt_number": 5
    },
    {
     "cell_type": "heading",
     "level": 2,
     "metadata": {},
     "source": [
      "Tune SVC without deciding the kernel in advance <a id=all></a>"
     ]
    },
    {
     "cell_type": "markdown",
     "metadata": {},
     "source": [
      "In the previous part we choose to use an RBF kernel. Even though the RBF kernel is known to work well for a large variety of problems (and yielded good accuracy here), our choice was somewhat arbitrary.\n",
      "\n",
      "We will now use Optunity's conditional hyperparameter optimization feature to optimize over all kernel functions and their associated hyperparameters at once. This requires us to define the search space."
     ]
    },
    {
     "cell_type": "code",
     "collapsed": false,
     "input": [
      "space = {'kernel': {'linear': {'C': [0, 2]},\n",
      "                    'rbf': {'gamma': [0, 0.1], 'C': [0, 10]},\n",
      "                    'poly': {'degree': [2, 5], 'C': [0, 5], 'coef0': [0, 2]}\n",
      "                    }\n",
      "         }"
     ],
     "language": "python",
     "metadata": {},
     "outputs": [],
     "prompt_number": 6
    },
    {
     "cell_type": "markdown",
     "metadata": {},
     "source": [
      "We will also have to modify the objective function to cope with conditional hyperparameters. The reason we need to do this explicitly is because scikit-learn doesn't like dealing with `None` values for irrelevant hyperparameters (e.g. `degree` when using an RBF kernel). Optunity will set all irrelevant hyperparameters in a given set to `None`."
     ]
    },
    {
     "cell_type": "code",
     "collapsed": false,
     "input": [
      "def train_model(x_train, y_train, kernel, C, gamma, degree, coef0):\n",
      "    \"\"\"A generic SVM training function, with arguments based on the chosen kernel.\"\"\"\n",
      "    if kernel == 'linear':\n",
      "        model = sklearn.svm.SVC(kernel=kernel, C=C)\n",
      "    elif kernel == 'poly':\n",
      "        model = sklearn.svm.SVC(kernel=kernel, C=C, degree=degree, coef0=coef0)\n",
      "    elif kernel == 'rbf':\n",
      "        model = sklearn.svm.SVC(kernel=kernel, C=C, gamma=gamma)\n",
      "    else: \n",
      "        raise ArgumentError(\"Unknown kernel function: %s\" % kernel)\n",
      "    model.fit(x_train, y_train)\n",
      "    return model\n",
      "\n",
      "def svm_tuned_auroc(x_train, y_train, x_test, y_test, kernel='linear', C=0, gamma=0, degree=0, coef0=0):\n",
      "    model = train_model(x_train, y_train, kernel, C, gamma, degree, coef0)\n",
      "    decision_values = model.decision_function(x_test)\n",
      "    return optunity.metrics.roc_auc(y_test, decision_values)\n",
      "\n",
      "svm_tuned_auroc = cv_decorator(svm_tuned_auroc)"
     ],
     "language": "python",
     "metadata": {},
     "outputs": [],
     "prompt_number": 7
    },
    {
     "cell_type": "markdown",
     "metadata": {},
     "source": [
      "Now we are ready to go and optimize both kernel function and associated hyperparameters!"
     ]
    },
    {
     "cell_type": "code",
     "collapsed": false,
     "input": [
      "optimal_svm_pars, info, _ = optunity.maximize_structured(svm_tuned_auroc, space, num_evals=150)\n",
      "print(\"Optimal parameters\" + str(optimal_svm_pars))\n",
      "print(\"AUROC of tuned SVM: %1.3f\" % info.optimum)"
     ],
     "language": "python",
     "metadata": {},
     "outputs": [
      {
       "output_type": "stream",
       "stream": "stdout",
       "text": [
        "Optimal parameters{'kernel': 'rbf', 'C': 7.919921875, 'coef0': None, 'gamma': 0.00107421875, 'degree': None}\n",
        "AUROC of tuned SVM: 0.986\n"
       ]
      }
     ],
     "prompt_number": 8
    }
   ],
   "metadata": {}
  }
 ]
}